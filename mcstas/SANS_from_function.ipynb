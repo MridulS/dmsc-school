{
 "cells": [
  {
   "cell_type": "code",
   "execution_count": null,
   "id": "egyptian-salvation",
   "metadata": {},
   "outputs": [],
   "source": [
    "import mcstasscript as ms\n",
    "import mcstasscript.jb_interface as ms_widget\n",
    "import scipp as sc\n",
    "import plopp as pp\n",
    "import numpy as np\n",
    "\n",
    "import matplotlib.pyplot as plt\n",
    "#%matplotlib widget\n",
    "\n",
    "import make_SANS_instrument"
   ]
  },
  {
   "cell_type": "code",
   "execution_count": null,
   "id": "bd898479-315c-4a20-ad34-b960efe390e8",
   "metadata": {},
   "outputs": [],
   "source": [
    "my_configurator = ms.Configurator()\n",
    "my_configurator.set_mcrun_path(\"/usr/bin/\")\n",
    "my_configurator.set_mcstas_path(\"/usr/share/mcstas/3.3/\")"
   ]
  },
  {
   "cell_type": "markdown",
   "id": "unexpected-mandate",
   "metadata": {},
   "source": [
    "# SANS exercise\n",
    "\n",
    "\n",
    "In this notebook you will get this simplified SANS instrument and answer a few questions about the results. You will also get to improve it and run experiments with both with and without a sample.\n",
    "\n",
    "### Get an instrument object\n",
    "Here from a function, in future could be online repository"
   ]
  },
  {
   "cell_type": "code",
   "execution_count": null,
   "id": "loose-workstation",
   "metadata": {},
   "outputs": [],
   "source": [
    "instrument = make_SANS_instrument.make(input_path=\"run_folder\")\n",
    "nexus_mode = False"
   ]
  },
  {
   "cell_type": "markdown",
   "id": "continued-thong",
   "metadata": {},
   "source": [
    "## Investigate instrument\n",
    "First investigate the instrument object *instrument* using some of the available methods. All the methods that help do that start with the word show. In particular, look at what parameters are available and take a look at the instrument geometry."
   ]
  },
  {
   "cell_type": "code",
   "execution_count": null,
   "id": "conceptual-knitting",
   "metadata": {},
   "outputs": [],
   "source": [
    "instrument.show_parameters()"
   ]
  },
  {
   "cell_type": "code",
   "execution_count": null,
   "id": "secret-surrey",
   "metadata": {},
   "outputs": [],
   "source": [
    "instrument.show_instrument()"
   ]
  },
  {
   "cell_type": "markdown",
   "id": "scientific-earthquake",
   "metadata": {},
   "source": [
    "## Set parameters\n",
    "Before running the instrument we need to set some parameters. The most important one is the *detector_distance* parameter describing the distance between the sample and the detector. Given the need for high angular precision in determining the scattering angle of the neutron, which of these would be best?\n",
    "\n",
    "- A: 1 m\n",
    "- B: 2 m\n",
    "- C: 3 m\n",
    "\n",
    "Could instead have question on wavelength band to test time of flight knowledge."
   ]
  },
  {
   "cell_type": "code",
   "execution_count": null,
   "id": "separate-madonna",
   "metadata": {},
   "outputs": [],
   "source": [
    "# quiz C"
   ]
  },
  {
   "cell_type": "markdown",
   "id": "drawn-belarus",
   "metadata": {},
   "source": [
    "Set the parameters of the instrument using the *set_parameters* method.\n",
    "- sample_distance: 150 m\n",
    "- wavelength: 6 Å\n",
    "- wavelength bad: 1.5 Å\n",
    "- enable_sample: 0\n",
    "- n_pulses: 1"
   ]
  },
  {
   "cell_type": "code",
   "execution_count": null,
   "id": "southeast-weight",
   "metadata": {},
   "outputs": [],
   "source": [
    "instrument.set_parameters(sample_distance=150, wavelength=6, d_wavelength=1.5,\n",
    "                          enable_sample=0, n_pulses=1)"
   ]
  },
  {
   "cell_type": "markdown",
   "id": "featured-replica",
   "metadata": {},
   "source": [
    "## Run the instrument\n",
    "Now the simulation can be executed with the backengine method. Store the returned data in a python variable called data."
   ]
  },
  {
   "cell_type": "code",
   "execution_count": null,
   "id": "infrared-major",
   "metadata": {},
   "outputs": [],
   "source": [
    "instrument.settings(ncount=5E6, mpi=6, suppress_output=False)\n"
   ]
  },
  {
   "cell_type": "code",
   "execution_count": null,
   "id": "addressed-mexican",
   "metadata": {},
   "outputs": [],
   "source": [
    "data = instrument.backengine()\n",
    "data"
   ]
  },
  {
   "cell_type": "code",
   "execution_count": null,
   "id": "controversial-wilderness",
   "metadata": {},
   "outputs": [],
   "source": [
    "#ms_widget.show(data)\n",
    "ms.make_sub_plot(data[0:3], figsize=(12, 8), log=True, orders_of_mag=5)"
   ]
  },
  {
   "cell_type": "markdown",
   "id": "intermediate-isaac",
   "metadata": {},
   "source": [
    "### interpretation of the data\n",
    "The detector is a He3 tube centered 25 cm above the beam height and with a metal casing. \n",
    "\n",
    "What does the signal look like without sample?\n",
    "- A: Most of the signal close to the direct beam\n",
    "- B: Flat signal over detector height \n",
    "- C: Most of the signal is far away from the direct beam"
   ]
  },
  {
   "cell_type": "code",
   "execution_count": null,
   "id": "worst-lease",
   "metadata": {},
   "outputs": [],
   "source": [
    "# quiz A"
   ]
  },
  {
   "cell_type": "markdown",
   "id": "minute-separation",
   "metadata": {},
   "source": [
    "Is this a problem for a SANS instrument?\n",
    "- A: Yes\n",
    "- B: No"
   ]
  },
  {
   "cell_type": "code",
   "execution_count": null,
   "id": "substantial-activity",
   "metadata": {},
   "outputs": [],
   "source": [
    "# quiz A"
   ]
  },
  {
   "cell_type": "markdown",
   "id": "continued-gazette",
   "metadata": {},
   "source": [
    "How can it be improved?\n",
    "- A: By adding a Velocity selector\n",
    "- B: By adding a Chopper\n",
    "- C: By adding a Beamstop\n",
    "- D: By adding a Slit"
   ]
  },
  {
   "cell_type": "code",
   "execution_count": null,
   "id": "alpine-kuwait",
   "metadata": {},
   "outputs": [],
   "source": [
    "# quiz C"
   ]
  },
  {
   "cell_type": "markdown",
   "id": "substantial-navigation",
   "metadata": {},
   "source": [
    "## Improve the instrument\n",
    "In order to improve the performance of the instrument, we will add a McStas component. The first aspect to consider when doing so is where to place it, both in the component sequence and its physical location. We start by looking at the code sequence.\n",
    "\n",
    "### McStas sequence \n",
    "Use either the *show_diagram* or *show_components* method on the instrument object to get an overview of the component sequence in the instrument. Where would you place the new component?\n",
    "\n",
    "- A: After the source\n",
    "- B: Before the sample position\n",
    "- C: After the sample position\n",
    "- D: Before the detector position"
   ]
  },
  {
   "cell_type": "code",
   "execution_count": null,
   "id": "composite-difference",
   "metadata": {},
   "outputs": [],
   "source": [
    "instrument.show_diagram()"
   ]
  },
  {
   "cell_type": "code",
   "execution_count": null,
   "id": "religious-equality",
   "metadata": {},
   "outputs": [],
   "source": [
    "# quiz C and D correct"
   ]
  },
  {
   "cell_type": "markdown",
   "id": "authorized-recovery",
   "metadata": {},
   "source": [
    "### Which component\n",
    "Now we need to select what type of component to add to the instrument, here we will need the *Beamstop* component. Use the *component_help* method on the instrument to learn more about this component."
   ]
  },
  {
   "cell_type": "code",
   "execution_count": null,
   "id": "recent-asian",
   "metadata": {},
   "outputs": [],
   "source": [
    "instrument.component_help(\"Beamstop\")"
   ]
  },
  {
   "cell_type": "markdown",
   "id": "young-liquid",
   "metadata": {},
   "source": [
    "### Add chopper component and set parameters\n",
    "Use the *add_component* method on the instrument to add a chopper. Place it in the component sequence by using either the *before* or *after* keyword argument.\n",
    "\n",
    "Set the parameters:\n",
    " - yheight: 0.05 m\n",
    " - radius: 0.7 m\n",
    " - nslit: 1.0\n",
    " - nu, delay and theta_0: To the variables calculated in the instrument (use quotation marks)"
   ]
  },
  {
   "cell_type": "code",
   "execution_count": null,
   "id": "built-venezuela",
   "metadata": {},
   "outputs": [],
   "source": [
    "beamstop = instrument.add_component(\"beamstop\", \"Beamstop\", before=\"detector_position\")\n",
    "beamstop.set_parameters(xwidth=0.1, yheight=0.02)"
   ]
  },
  {
   "cell_type": "code",
   "execution_count": null,
   "id": "lesser-retrieval",
   "metadata": {},
   "outputs": [],
   "source": [
    "# quiz(instrument)"
   ]
  },
  {
   "cell_type": "markdown",
   "id": "engaging-terminal",
   "metadata": {},
   "source": [
    "### Placing the component in space\n",
    "The next physical location of the component need to be specified, which is done using the *set_AT* component. This method takes a list of 3 numbers, corresponding to the *x*, *y* and *z* coordinates of the component. One can also specify in what coordinate system one wants to work, which can be that of any preceeding component. Use the *RELATIVE* keyword to work in the *source* coordinate system. The position of the chopper is needed for calculating phase, so it is available as a variable in the instrument, use this variable to set the position."
   ]
  },
  {
   "cell_type": "code",
   "execution_count": null,
   "id": "overhead-marriage",
   "metadata": {},
   "outputs": [],
   "source": [
    "beamstop.set_AT([0,0,\"0.9*detector_distance\"], RELATIVE=\"sample_position\")"
   ]
  },
  {
   "cell_type": "code",
   "execution_count": null,
   "id": "acute-depression",
   "metadata": {},
   "outputs": [],
   "source": [
    "# quiz(instrument)"
   ]
  },
  {
   "cell_type": "markdown",
   "id": "thick-precipitation",
   "metadata": {},
   "source": [
    "### Verify new component\n",
    "Now that the chopper has been added to the instrument, lets show the component sequence again to verify it was added correctly."
   ]
  },
  {
   "cell_type": "code",
   "execution_count": null,
   "id": "original-carnival",
   "metadata": {},
   "outputs": [],
   "source": [
    "instrument.show_diagram()"
   ]
  },
  {
   "cell_type": "markdown",
   "id": "narrow-dealing",
   "metadata": {},
   "source": [
    "## Run improved instrument\n",
    "Run the improved instrument with the following parameters:\n",
    "- sample_distance: 150 m\n",
    "- d_wavelength: 1.5 Å\n",
    "- enable_sample: 0\n",
    "- n_pulses: 1"
   ]
  },
  {
   "cell_type": "code",
   "execution_count": null,
   "id": "bearing-volume",
   "metadata": {},
   "outputs": [],
   "source": [
    "instrument.settings(ncount=5E6, mpi=6, suppress_output=True)\n",
    "\n",
    "if nexus_mode:\n",
    "    instrument.set_parameters(sample_distance=150, d_wavelength=1.5, enable_sample=0, n_pulses=3)\n",
    "    instrument.settings(output_path=\"SANS_without_sample_NeXus_3_pulse\", NeXus=nexus_mode, ncount=1.5E7)\n",
    "    background_data = instrument.backengine()"
   ]
  },
  {
   "cell_type": "code",
   "execution_count": null,
   "id": "genuine-plant",
   "metadata": {},
   "outputs": [],
   "source": [
    "instrument.set_parameters(sample_distance=150, d_wavelength=1.5, enable_sample=0, n_pulses=1)\n",
    "instrument.settings(output_path=\"SANS_without_sample_NeXus_1_pulse\", NeXus=nexus_mode, ncount=5E6)\n",
    "background_data = instrument.backengine()"
   ]
  },
  {
   "cell_type": "code",
   "execution_count": null,
   "id": "agricultural-marble",
   "metadata": {},
   "outputs": [],
   "source": [
    "background_data"
   ]
  },
  {
   "cell_type": "code",
   "execution_count": null,
   "id": "interesting-processing",
   "metadata": {},
   "outputs": [],
   "source": [
    "ms.make_sub_plot(background_data[1:3], figsize=(12, 8), log=True, orders_of_mag=5)\n",
    "#ms_widget.show(data)\n",
    "#ms.make_sub_plot([improved_data[0], improved_data[3]], figsize=(12, 8), log=True, orders_of_mag=10)"
   ]
  },
  {
   "cell_type": "markdown",
   "id": "satisfactory-october",
   "metadata": {},
   "source": [
    "Do you see an improvement compared to earlier results?\n",
    "- A: Yes\n",
    "- B: No"
   ]
  },
  {
   "cell_type": "code",
   "execution_count": null,
   "id": "cardiac-boulder",
   "metadata": {},
   "outputs": [],
   "source": [
    "# quiz A"
   ]
  },
  {
   "cell_type": "markdown",
   "id": "empty-addiction",
   "metadata": {},
   "source": [
    "## Run with sample\n",
    "Now the sample can be added by setting the *enable_sample* parameter to one and calling the *backengine* method again."
   ]
  },
  {
   "cell_type": "code",
   "execution_count": null,
   "id": "successful-seven",
   "metadata": {},
   "outputs": [],
   "source": [
    "if nexus_mode:\n",
    "    instrument.settings(ncount=1.5E7, mpi=6, suppress_output=True,\n",
    "                        output_path=\"SANS_with_sample_NeXus_3_pulse\", NeXus=nexus_mode)\n",
    "    instrument.set_parameters(sample_distance=150, d_wavelength=1.5, enable_sample=1, n_pulses=3)\n",
    "\n",
    "    sample_data = instrument.backengine()"
   ]
  },
  {
   "cell_type": "code",
   "execution_count": null,
   "id": "straight-border",
   "metadata": {},
   "outputs": [],
   "source": [
    "instrument.settings(ncount=5E6, mpi=6, suppress_output=True,\n",
    "                    output_path=\"SANS_with_sample_NeXus_1_pulse\", NeXus=nexus_mode)\n",
    "instrument.set_parameters(sample_distance=150, d_wavelength=1.5, enable_sample=1, n_pulses=1)\n",
    "\n",
    "sample_data = instrument.backengine()"
   ]
  },
  {
   "cell_type": "code",
   "execution_count": null,
   "id": "exempt-instrument",
   "metadata": {},
   "outputs": [],
   "source": [
    "ms.make_sub_plot(sample_data[1:3], figsize=(12, 8), log=True, orders_of_mag=10)"
   ]
  },
  {
   "cell_type": "markdown",
   "id": "objective-cholesterol",
   "metadata": {},
   "source": [
    "Question to check the students are seeing the final dataset."
   ]
  },
  {
   "cell_type": "code",
   "execution_count": null,
   "id": "harmful-reconstruction",
   "metadata": {},
   "outputs": [],
   "source": []
  },
  {
   "cell_type": "markdown",
   "id": "latter-murray",
   "metadata": {},
   "source": [
    "# Student exercise would end here\n"
   ]
  },
  {
   "cell_type": "code",
   "execution_count": null,
   "id": "brief-hollow",
   "metadata": {},
   "outputs": [],
   "source": []
  },
  {
   "cell_type": "code",
   "execution_count": null,
   "id": "reserved-atmosphere",
   "metadata": {},
   "outputs": [],
   "source": []
  },
  {
   "cell_type": "markdown",
   "id": "further-eagle",
   "metadata": {},
   "source": [
    "### Load data as events and analyze"
   ]
  },
  {
   "cell_type": "code",
   "execution_count": null,
   "id": "explicit-virtue",
   "metadata": {},
   "outputs": [],
   "source": [
    "import scipp as sc\n",
    "import numpy as np\n",
    "\n",
    "def analyze(data):\n",
    "    \n",
    "    event = ms.name_search(\"signal_tof_event\", data)\n",
    "    \n",
    "    weights = event.get_data_column(\"p\")\n",
    "    y_values = event.get_data_column(\"y\") + 0.25 # convert to y over direct beam\n",
    "    t_values = event.get_data_column(\"t\")\n",
    "\n",
    "    n_events = len(y_values)\n",
    "    positions = np.array([np.zeros(n_events), y_values, np.zeros(n_events)])\n",
    "\n",
    "    events = sc.DataArray(\n",
    "            data=sc.array(dims=['events'], unit=sc.units.counts, values=weights), #, variances=weights),\n",
    "            coords={\n",
    "                #'x': sc.array(dims=['events'], unit='m', values=x_values),\n",
    "                'y': sc.array(dims=['events'], unit='m', values=y_values),\n",
    "                #'z': sc.array(dims=['events'], unit='m', values=z_values),\n",
    "                'position' : sc.vectors(dims=['events'], values=positions.T, unit='m'),\n",
    "                't': sc.array(dims=['events'], unit='s', values=t_values),\n",
    "            })\n",
    "\n",
    "    # Would need to convert time to time of flight\n",
    "    events.coords[\"t_c\"] = events.coords[\"t\"]\n",
    "\n",
    "    # Set up distances\n",
    "    detector_distance = event.metadata.parameters[\"detector_distance\"]\n",
    "    sample_distance = event.metadata.parameters[\"sample_distance\"]\n",
    "    source_pos = -sample_distance - detector_distance\n",
    "\n",
    "    # Find distance from sample to each event\n",
    "    events.coords[\"sample_y_dist\"] = sc.sqrt(events.coords[\"y\"]**2 + sc.scalar(detector_distance, unit=\"m\")**2)\n",
    "\n",
    "    # Find distance traveled from source to event\n",
    "    events.coords[\"source_pixel_distance\"] = sc.scalar(sample_distance, unit=\"m\") + events.coords[\"sample_y_dist\"]\n",
    "\n",
    "    # Calculate speed\n",
    "    events.coords[\"speed\"] = events.coords[\"source_pixel_distance\"]/events.coords[\"t\"]\n",
    "\n",
    "    V2K = 0.001588254 # from m/s to Å^-1\n",
    "\n",
    "    # Convert to wavevector\n",
    "    events.coords[\"k\"] = events.coords[\"speed\"]*sc.scalar(V2K, unit=\"Å^-1*s/m\")\n",
    "\n",
    "    # Calculate two theta\n",
    "    events.coords[\"two_theta\"] = sc.atan(events.coords[\"y\"]/sc.scalar(detector_distance, unit=\"m\"))\n",
    "\n",
    "    # Calculate Q\n",
    "    events.coords[\"Q\"] = 2*events.coords[\"k\"]*sc.sin(0.5*events.coords[\"two_theta\"])\n",
    "    \n",
    "    return events"
   ]
  },
  {
   "cell_type": "code",
   "execution_count": null,
   "id": "rising-trust",
   "metadata": {},
   "outputs": [],
   "source": [
    "#data = sim_interface.get_data()\n",
    "events = analyze(sample_data)"
   ]
  },
  {
   "cell_type": "markdown",
   "id": "awful-apparel",
   "metadata": {},
   "source": [
    "### Plot time distribution"
   ]
  },
  {
   "cell_type": "code",
   "execution_count": null,
   "id": "assisted-ghana",
   "metadata": {},
   "outputs": [],
   "source": [
    "times = events.bin(t=200)\n",
    "pp.plot(times.hist())"
   ]
  },
  {
   "cell_type": "markdown",
   "id": "sexual-diagram",
   "metadata": {},
   "source": [
    "### Plot two theta distributions"
   ]
  },
  {
   "cell_type": "code",
   "execution_count": null,
   "id": "ecological-victor",
   "metadata": {},
   "outputs": [],
   "source": [
    "events.bin(two_theta=100).hist().plot(norm=\"log\")"
   ]
  },
  {
   "cell_type": "markdown",
   "id": "vocal-class",
   "metadata": {},
   "source": [
    "### Plot Q dependence"
   ]
  },
  {
   "cell_type": "code",
   "execution_count": null,
   "id": "detected-stuff",
   "metadata": {},
   "outputs": [],
   "source": [
    "events.bin(Q=400).hist().plot(norm=\"log\", vmin=sc.scalar(1E-4, unit=\"counts\"))"
   ]
  },
  {
   "cell_type": "markdown",
   "id": "female-heart",
   "metadata": {},
   "source": [
    "### Grab background data"
   ]
  },
  {
   "cell_type": "code",
   "execution_count": null,
   "id": "continuous-wholesale",
   "metadata": {},
   "outputs": [],
   "source": [
    "background_events = analyze(background_data)"
   ]
  },
  {
   "cell_type": "markdown",
   "id": "threaded-contract",
   "metadata": {},
   "source": [
    "### Compare with and without sample"
   ]
  },
  {
   "cell_type": "code",
   "execution_count": null,
   "id": "reported-prairie",
   "metadata": {},
   "outputs": [],
   "source": [
    "n_bins = 200\n",
    "pp.plot({\"With sample\": events.bin(two_theta=n_bins).hist(),\n",
    "         \"Without sample\": background_events.bin(two_theta=n_bins).hist()},\n",
    "         linestyle={\"With sample\": \"solid\", \"Without sample\": \"dashed\"},\n",
    "         norm=\"log\", vmax=5E3, vmin=1E-1)"
   ]
  },
  {
   "cell_type": "code",
   "execution_count": null,
   "id": "stock-court",
   "metadata": {},
   "outputs": [],
   "source": [
    "n_bins = 200\n",
    "pp.plot({\"With sample\": events.bin(Q=n_bins).hist(),\n",
    "         \"Without sample\": background_events.bin(Q=n_bins).hist()},\n",
    "         linestyle={\"With sample\": \"solid\", \"Without sample\": \"dashed\"},\n",
    "         norm=\"log\", vmax=5E3, vmin=1E-1)"
   ]
  },
  {
   "cell_type": "markdown",
   "id": "pressing-sound",
   "metadata": {},
   "source": [
    "### Subtract without sample"
   ]
  },
  {
   "cell_type": "code",
   "execution_count": null,
   "id": "corporate-portsmouth",
   "metadata": {},
   "outputs": [],
   "source": [
    "n_bins = 160\n",
    "\n",
    "binned_events = events.bin(Q=n_bins)\n",
    "q_bins = binned_events.coords[\"Q\"]\n",
    "\n",
    "pp.plot(binned_events.hist() - background_events.bin(Q=q_bins).hist(),\n",
    "        norm=\"log\", vmax=1E4, vmin=1E-3)"
   ]
  },
  {
   "cell_type": "code",
   "execution_count": null,
   "id": "removed-person",
   "metadata": {},
   "outputs": [],
   "source": [
    "instrument.show_parameters()"
   ]
  },
  {
   "cell_type": "code",
   "execution_count": null,
   "id": "initial-civilization",
   "metadata": {},
   "outputs": [],
   "source": [
    "import numpy as np\n",
    "\n",
    "pars = sample_data[0].metadata.parameters\n",
    "\n",
    "wave_center = pars[\"wavelength\"]\n",
    "wave_band = pars[\"d_wavelength\"]\n",
    "wave_min = 8 - 0.5*wave_band\n",
    "wave_max = 8 + 0.5*wave_band\n",
    "\n",
    "angle_min = np.arctan(0.02/pars[\"detector_distance\"])\n",
    "angle_max = np.arctan(0.5/pars[\"detector_distance\"])\n",
    "\n",
    "q_min = 4*np.pi/wave_max*np.sin(angle_min/2)\n",
    "q_max = 4*np.pi/wave_min*np.sin(angle_max/2)\n",
    "\n",
    "print(\"angle [rad]: \", angle_min, angle_max)\n",
    "print(\"q: \", q_min, q_max)"
   ]
  },
  {
   "cell_type": "code",
   "execution_count": null,
   "id": "silver-glossary",
   "metadata": {},
   "outputs": [],
   "source": [
    "import numpy as np\n",
    "import matplotlib.pyplot as plt\n",
    "\n",
    "# Function to compute\n",
    "def func(q, R):\n",
    "    return 3 * (np.sin(q * R) - q * R * np.cos(q * R)) / (q * R * q * R * q * R)\n",
    "\n",
    "# Constants\n",
    "R = pars[\"SANS_R\"]\n",
    "num_points = 1000\n",
    "\n",
    "# Create an array of q values\n",
    "q = np.linspace(q_min, q_max, num_points)\n",
    "\n",
    "# Compute the function values\n",
    "y = func(q, R)\n",
    "\n",
    "# Create the plot\n",
    "plt.figure(figsize=(10, 6))\n",
    "plt.plot(q, y, label=f'Function for R={R}')\n",
    "plt.title('Function Plot')\n",
    "plt.xlabel('q')\n",
    "plt.ylabel('y')\n",
    "plt.legend()\n",
    "plt.grid(True)\n",
    "plt.show()\n"
   ]
  },
  {
   "cell_type": "code",
   "execution_count": null,
   "id": "stable-closure",
   "metadata": {},
   "outputs": [],
   "source": [
    "instrument.get_component(\"He3_gas\").show_parameters()"
   ]
  },
  {
   "cell_type": "markdown",
   "id": "sapphire-infrared",
   "metadata": {},
   "source": [
    "### Compare with theory\n",
    "$3 * (sin(q*R) - q*R*cos(q*R))/(q*R*q*R*q*R)$"
   ]
  },
  {
   "cell_type": "markdown",
   "id": "innocent-collins",
   "metadata": {},
   "source": [
    "q = np.linspace(q_bins[0].value, q_bins[-1].value, 500)\n",
    "R = 150\n",
    "I = 3*(np.sin(q*R) - q*R*np.cos(q*R))/(q**3*R**3)\n",
    "\n",
    "theory = sc.DataArray(\n",
    "        data=sc.array(dims=['events'], unit=sc.units.counts, values=weights), #, variances=weights),\n",
    "        coords={\n",
    "            #'x': sc.array(dims=['events'], unit='m', values=x_values),\n",
    "            'y': sc.array(dims=['events'], unit='m', values=y_values),\n",
    "            #'z': sc.array(dims=['events'], unit='m', values=z_values),\n",
    "            'position' : sc.vectors(dims=['events'], values=positions.T, unit='m'),\n",
    "            't': sc.array(dims=['events'], unit='s', values=t_values),\n",
    "        })"
   ]
  },
  {
   "cell_type": "markdown",
   "id": "hollow-radius",
   "metadata": {},
   "source": [
    "pp.plot({\"simulation\": binned_events.hist() - background_events.bin(Q=q_bins).hist(),\n",
    "         \"theory\": \n",
    "        norm=\"log\", vmin=1E-3, vmax=1E3)"
   ]
  }
 ],
 "metadata": {
  "kernelspec": {
   "display_name": "Python 3 (ipykernel)",
   "language": "python",
   "name": "python3"
  },
  "language_info": {
   "codemirror_mode": {
    "name": "ipython",
    "version": 3
   },
   "file_extension": ".py",
   "mimetype": "text/x-python",
   "name": "python",
   "nbconvert_exporter": "python",
   "pygments_lexer": "ipython3",
   "version": "3.10.10"
  }
 },
 "nbformat": 4,
 "nbformat_minor": 5
}
