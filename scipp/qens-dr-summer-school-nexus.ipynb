{
 "cells": [
  {
   "cell_type": "markdown",
   "id": "403b137b-6d4c-4d44-8a36-45c3380e74b1",
   "metadata": {},
   "source": [
    "# QENS data reduction - DMSC Summer School"
   ]
  },
  {
   "cell_type": "code",
   "execution_count": null,
   "id": "0bfa10eb-2a03-4672-802d-9d8f5620c9c5",
   "metadata": {},
   "outputs": [],
   "source": [
    "import numpy as np\n",
    "import scipp as sc\n",
    "import plopp as pp\n",
    "import os\n",
    "import utils"
   ]
  },
  {
   "cell_type": "markdown",
   "id": "2319763f-3ef7-411b-8bf9-3d9635b314dd",
   "metadata": {},
   "source": [
    "## Process run with sample"
   ]
  },
  {
   "cell_type": "code",
   "execution_count": null,
   "id": "6aff8748-d983-4dca-9330-1acaffc676d0",
   "metadata": {},
   "outputs": [],
   "source": [
    "top_folder = 'McStas_QENS_NeXus_with_issue'\n",
    "run_folder = 'QENS_elastic_NeXus_1_pulse'\n",
    "fname = os.path.join(top_folder, run_folder, 'mccode.h5')"
   ]
  },
  {
   "cell_type": "code",
   "execution_count": null,
   "id": "c0963105-1f74-4d4e-8655-542d44328839",
   "metadata": {},
   "outputs": [],
   "source": [
    "events, params, dg = utils.load_nexus(fname)"
   ]
  },
  {
   "cell_type": "code",
   "execution_count": null,
   "id": "73f400db-4e29-469d-8e76-af916fc9beef",
   "metadata": {},
   "outputs": [],
   "source": [
    "params"
   ]
  },
  {
   "cell_type": "code",
   "execution_count": null,
   "id": "7ba9abdc-8ca9-4692-9152-1c3a2e125c8c",
   "metadata": {},
   "outputs": [],
   "source": [
    "dg"
   ]
  },
  {
   "cell_type": "code",
   "execution_count": null,
   "id": "f2653370-aabd-4209-838c-3e975dee827a",
   "metadata": {},
   "outputs": [],
   "source": []
  },
  {
   "cell_type": "code",
   "execution_count": null,
   "id": "bf4e4857-739c-4d6d-94bc-14b6e2fd3da7",
   "metadata": {},
   "outputs": [],
   "source": [
    "sample = utils.load_nexus(fname)\n",
    "sample"
   ]
  },
  {
   "cell_type": "code",
   "execution_count": null,
   "id": "31ef1533-c991-40bc-a840-9713e5b132cb",
   "metadata": {},
   "outputs": [],
   "source": [
    "sample.hist(tof=200, y=200).plot(norm='log', vmin=1.0e-2)"
   ]
  },
  {
   "cell_type": "code",
   "execution_count": null,
   "id": "e7632c23-31ba-42dd-a118-75f4c821511d",
   "metadata": {},
   "outputs": [],
   "source": [
    "sample.hist(y=200).plot(norm='log')"
   ]
  },
  {
   "cell_type": "code",
   "execution_count": null,
   "id": "19338401-0ec8-492d-81ec-e76c46de174d",
   "metadata": {},
   "outputs": [],
   "source": [
    "from scippneutron.conversion.graph.beamline import beamline\n",
    "from scippneutron.conversion.graph.tof import elastic"
   ]
  },
  {
   "cell_type": "code",
   "execution_count": null,
   "id": "ccf57ac3-8fdf-467f-ac43-23f26adc7504",
   "metadata": {},
   "outputs": [],
   "source": [
    "graph = beamline(scatter=True)\n",
    "sc.show_graph(graph, simplified=True)"
   ]
  },
  {
   "cell_type": "code",
   "execution_count": null,
   "id": "dd0ba0cd-39f4-4f4d-a73f-f59f25a87927",
   "metadata": {},
   "outputs": [],
   "source": [
    "def scat(sample_position, analyzer_position):\n",
    "    return analyzer_position - sample_position\n",
    "\n",
    "def l3(analyzer_position, position):\n",
    "    return position - analyzer_position\n",
    "\n",
    "def ltot(L1, L2, L3):\n",
    "    return L1 + L2 + L3\n",
    "graph['scattered_beam'] = scat\n",
    "graph['Ltotal'] = ltot\n",
    "graph['L3'] = l3"
   ]
  },
  {
   "cell_type": "code",
   "execution_count": null,
   "id": "7ec5b4ef-d480-4311-b52f-b2ae7c4158fb",
   "metadata": {},
   "outputs": [],
   "source": [
    "sc.show_graph(graph, simplified=True)"
   ]
  },
  {
   "cell_type": "code",
   "execution_count": null,
   "id": "35a3c037-e5c1-4516-977d-7cf1a7c04fc0",
   "metadata": {},
   "outputs": [],
   "source": []
  },
  {
   "cell_type": "code",
   "execution_count": null,
   "id": "eaea5395-6836-4e44-b0c0-62e529e37b44",
   "metadata": {},
   "outputs": [],
   "source": [
    "graph = {**beamline(scatter=True), **elastic(\"tof\")}\n",
    "sc.show_graph(graph, simplified=True)"
   ]
  },
  {
   "cell_type": "code",
   "execution_count": null,
   "id": "3ddcec2f-37c5-4ab8-8040-77df532f48cb",
   "metadata": {},
   "outputs": [],
   "source": [
    "sample.transform_coords(\"wavelength\", graph=graph).hist(wavelength=200).plot()"
   ]
  },
  {
   "cell_type": "code",
   "execution_count": null,
   "id": "24f93ecc-1a70-4688-9642-1944c42fc98b",
   "metadata": {},
   "outputs": [],
   "source": [
    "sample_q = sample.transform_coords(\"Q\", graph=graph)\n",
    "sample_q"
   ]
  },
  {
   "cell_type": "code",
   "execution_count": null,
   "id": "44e6ba9f-3255-4491-9760-e817da9c1820",
   "metadata": {},
   "outputs": [],
   "source": [
    "sample_h = sample_q.hist(Q=200)\n",
    "sample_h"
   ]
  },
  {
   "cell_type": "markdown",
   "id": "a3db945e-dc69-482f-ba62-d5e23a6bc1ad",
   "metadata": {},
   "source": [
    "### Add variances to the data"
   ]
  },
  {
   "cell_type": "code",
   "execution_count": null,
   "id": "5b04672f-a7e1-4c61-8921-6e4a8615fd44",
   "metadata": {},
   "outputs": [],
   "source": [
    "utils.add_variances(sample_h)\n",
    "sample_h.data"
   ]
  },
  {
   "cell_type": "code",
   "execution_count": null,
   "id": "832f4a50-f14f-4442-8010-8aa1f46695ef",
   "metadata": {},
   "outputs": [],
   "source": [
    "sample_h.plot(norm='log')"
   ]
  },
  {
   "cell_type": "markdown",
   "id": "a4ba424c-05f1-436d-be55-25c7736b9ade",
   "metadata": {},
   "source": [
    "## Process flat-field run"
   ]
  },
  {
   "cell_type": "code",
   "execution_count": null,
   "id": "4dbd1772-d92c-402a-88d2-1c2bf93fae51",
   "metadata": {},
   "outputs": [],
   "source": [
    "run_folder = 'SANS_without_sample_NeXus_1_pulse'\n",
    "fname = os.path.join(top_folder, run_folder, 'mccode.h5')\n",
    "\n",
    "flat = utils.load_nexus(fname, 5.0e4)"
   ]
  },
  {
   "cell_type": "code",
   "execution_count": null,
   "id": "a3d878e1-5033-497b-b113-7f9477576e46",
   "metadata": {},
   "outputs": [],
   "source": [
    "flat.hist(y=200).plot()"
   ]
  },
  {
   "cell_type": "code",
   "execution_count": null,
   "id": "95fe6e77-8737-49ed-8c6e-2ee2e17b8900",
   "metadata": {},
   "outputs": [],
   "source": [
    "pp.plot({'sample': sample.hist(y=200),\n",
    "         'flat-field': flat.hist(y=200)},\n",
    "       norm='log')"
   ]
  },
  {
   "cell_type": "code",
   "execution_count": null,
   "id": "23bed8d3-ee35-42c4-89f5-1832815d4118",
   "metadata": {},
   "outputs": [],
   "source": [
    "flat_q = flat.transform_coords(\"Q\", graph=graph)"
   ]
  },
  {
   "cell_type": "code",
   "execution_count": null,
   "id": "85d5af77-1b2e-430d-a1f4-d91d798169e9",
   "metadata": {},
   "outputs": [],
   "source": [
    "flat_h = flat_q.hist(Q=200)\n",
    "utils.add_variances(flat_h)\n",
    "flat_h.plot()"
   ]
  },
  {
   "cell_type": "markdown",
   "id": "14116ebb-7ab7-496a-b4f6-db97ae5ab9f5",
   "metadata": {},
   "source": [
    "## Normalize"
   ]
  },
  {
   "cell_type": "code",
   "execution_count": null,
   "id": "5da8bd92-7158-43ad-b59b-c67fb9542069",
   "metadata": {},
   "outputs": [],
   "source": [
    "normed = sample_h / flat_h"
   ]
  },
  {
   "cell_type": "code",
   "execution_count": null,
   "id": "8197f942-0c1a-4d4a-94ba-ac416af7cf4a",
   "metadata": {},
   "outputs": [],
   "source": [
    "qbins = sc.linspace('Q', 5.0e-3, 0.2, 201, unit='1/angstrom')\n",
    "qbins"
   ]
  },
  {
   "cell_type": "code",
   "execution_count": null,
   "id": "4f058c31-dbe0-4ba1-baf0-4b96491dcf2f",
   "metadata": {},
   "outputs": [],
   "source": [
    "sample_h = sample_q.hist(Q=qbins)\n",
    "flat_h = flat_q.hist(Q=qbins)\n",
    "\n",
    "utils.add_variances(sample_h, flat_h)\n",
    "\n",
    "normed = sample_h / flat_h\n",
    "normed"
   ]
  },
  {
   "cell_type": "code",
   "execution_count": null,
   "id": "5750dd8a-a445-44d0-84a2-18eb9433e92b",
   "metadata": {},
   "outputs": [],
   "source": [
    "normed.plot(norm='log')"
   ]
  },
  {
   "cell_type": "markdown",
   "id": "e17a5ace-57af-447a-bcbb-1337f0bed86b",
   "metadata": {},
   "source": [
    "## Save result to disk"
   ]
  },
  {
   "cell_type": "code",
   "execution_count": null,
   "id": "7f69249a-f61f-457a-8a86-e9487b4b9dba",
   "metadata": {},
   "outputs": [],
   "source": [
    "q = sc.midpoints(normed.coords['Q']).values\n",
    "data = np.array([q, normed.values, np.sqrt(normed.variances)]).T\n",
    "\n",
    "np.savetxt('sans_iofq.dat', data, header=\"Q [1/A], I, stddev\", delimiter=' ')"
   ]
  }
 ],
 "metadata": {
  "kernelspec": {
   "display_name": "Python 3 (ipykernel)",
   "language": "python",
   "name": "python3"
  },
  "language_info": {
   "codemirror_mode": {
    "name": "ipython",
    "version": 3
   },
   "file_extension": ".py",
   "mimetype": "text/x-python",
   "name": "python",
   "nbconvert_exporter": "python",
   "pygments_lexer": "ipython3",
   "version": "3.10.10"
  }
 },
 "nbformat": 4,
 "nbformat_minor": 5
}
