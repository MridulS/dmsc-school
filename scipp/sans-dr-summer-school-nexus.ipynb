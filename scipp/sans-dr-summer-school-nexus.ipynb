{
 "cells": [
  {
   "cell_type": "markdown",
   "id": "403b137b-6d4c-4d44-8a36-45c3380e74b1",
   "metadata": {},
   "source": [
    "# SANS data reduction - DMSC Summer School"
   ]
  },
  {
   "cell_type": "code",
   "execution_count": null,
   "id": "0bfa10eb-2a03-4672-802d-9d8f5620c9c5",
   "metadata": {},
   "outputs": [],
   "source": [
    "import numpy as np\n",
    "import scipp as sc\n",
    "import plopp as pp"
   ]
  },
  {
   "cell_type": "markdown",
   "id": "2319763f-3ef7-411b-8bf9-3d9635b314dd",
   "metadata": {},
   "source": [
    "## Process run with sample"
   ]
  },
  {
   "cell_type": "code",
   "execution_count": null,
   "id": "6aff8748-d983-4dca-9330-1acaffc676d0",
   "metadata": {},
   "outputs": [],
   "source": [
    "fname = 'SANS_without_sample_NeXus_1_pulse/mccode.h5'"
   ]
  },
  {
   "cell_type": "code",
   "execution_count": null,
   "id": "097f55fb-edc1-42da-8cac-3cdddfa65035",
   "metadata": {},
   "outputs": [],
   "source": [
    "def load_nexus(fname):\n",
    "    import scippnexus.v2 as sx\n",
    "    import warnings\n",
    "    with warnings.catch_warnings():\n",
    "        warnings.simplefilter(\"ignore\")\n",
    "        dg = f[...]\n",
    "    events = sc.collapse(dg['entry1']['data']['detector_signal_event_dat'].data, keep='dim_0')\n",
    "    params = dg['entry1']['simulation']['Param']\n",
    "    columns = ['p', 'x', 'y', 'n', 'id', 't']\n",
    "    events = {c: v.copy() for c, v in zip(columns, events.values())}\n",
    "    weights = events.pop('p')\n",
    "    weights.unit = 'counts'\n",
    "    da = sc.DataArray(data=weights, coords=events)\n",
    "\n",
    "    da.coords['y'].unit = 'm'\n",
    "    da.coords['y'] += 0.25 * sc.units.m\n",
    "    da.coords['x'].unit = 'm'\n",
    "    z = sc.full_like(da.coords['y'], float(params['detector_distance']))\n",
    "    da.coords['position'] = sc.spatial.as_vectors(da.coords['x'], da.coords['y'], z)\n",
    "    da.coords['tof'] = da.coords.pop('t')\n",
    "    da.coords['tof'].unit = 's'\n",
    "    da.coords['tof'] = da.coords['tof'].to(unit='ms')\n",
    "    \n",
    "    da.coords['sample_position'] = sc.vector([0., 0., 0.], unit='m')\n",
    "    da.coords['source_position'] = sc.vector([0., 0., -float(params['sample_distance'])], unit='m')\n",
    "    return da"
   ]
  },
  {
   "cell_type": "code",
   "execution_count": null,
   "id": "77b7094c-0b80-481b-bb47-9ad94b19ccad",
   "metadata": {},
   "outputs": [],
   "source": [
    "# def load(fname):\n",
    "#     import pandas as pd\n",
    "#     df = pd.read_csv(fname, sep=' ', names=['p', 'x', 'y', 'n', 'id', 't'], comment='#', index_col=False)\n",
    "#     ds = sc.compat.from_pandas(df)\n",
    "#     weights = ds['p'].data\n",
    "#     weights.unit = 'counts'\n",
    "#     da = sc.DataArray(data=weights,\n",
    "#                      coords={k: v.data for k, v in ds.items()})\n",
    "#     da.coords['y'].unit = 'm'\n",
    "#     da.coords['y'] += 0.25 * sc.units.m\n",
    "#     y = da.coords['y']\n",
    "#     x = sc.zeros_like(y)\n",
    "#     z = sc.full_like(y, 3.)\n",
    "#     da.coords['position'] = sc.spatial.as_vectors(x, y, z)\n",
    "#     da.coords['tof'] = da.coords.pop('t')\n",
    "#     da.coords['tof'].unit = 's'\n",
    "#     da.coords['tof'] = da.coords['tof'].to(unit='ms')\n",
    "    \n",
    "#     da.coords['sample_position'] = sc.vector([0., 0., 0.], unit='m')\n",
    "#     da.coords['source_position'] = sc.vector([0., 0., -150.], unit='m')\n",
    "    \n",
    "#     return da"
   ]
  },
  {
   "cell_type": "code",
   "execution_count": null,
   "id": "bf4e4857-739c-4d6d-94bc-14b6e2fd3da7",
   "metadata": {},
   "outputs": [],
   "source": [
    "sample = load_nexus(fname)"
   ]
  },
  {
   "cell_type": "code",
   "execution_count": null,
   "id": "31ef1533-c991-40bc-a840-9713e5b132cb",
   "metadata": {},
   "outputs": [],
   "source": [
    "sample.hist(tof=200, y=200).plot(norm='log', vmin=1.0e-5)"
   ]
  },
  {
   "cell_type": "code",
   "execution_count": null,
   "id": "e7632c23-31ba-42dd-a118-75f4c821511d",
   "metadata": {},
   "outputs": [],
   "source": [
    "sample.hist(y=200).plot(norm='log')"
   ]
  },
  {
   "cell_type": "code",
   "execution_count": null,
   "id": "5b4e0704-015c-47a1-a591-b9685eee9072",
   "metadata": {},
   "outputs": [],
   "source": [
    "from scippneutron.conversion.graph.beamline import beamline\n",
    "from scippneutron.conversion.graph.tof import elastic\n",
    "\n",
    "graph = {**beamline(scatter=True), **elastic(\"tof\")}\n",
    "sc.show_graph(graph, simplified=True)"
   ]
  },
  {
   "cell_type": "code",
   "execution_count": null,
   "id": "3ddcec2f-37c5-4ab8-8040-77df532f48cb",
   "metadata": {},
   "outputs": [],
   "source": [
    "sample.transform_coords(\"wavelength\", graph=graph).hist(wavelength=200).plot()"
   ]
  },
  {
   "cell_type": "code",
   "execution_count": null,
   "id": "24f93ecc-1a70-4688-9642-1944c42fc98b",
   "metadata": {},
   "outputs": [],
   "source": [
    "sample_q = sample.transform_coords(\"Q\", graph=graph)\n",
    "sample_q"
   ]
  },
  {
   "cell_type": "code",
   "execution_count": null,
   "id": "94640c09-72dd-41eb-b1b1-ca07966a5bcf",
   "metadata": {},
   "outputs": [],
   "source": [
    "sample_h = sample_q.hist(Q=200)\n",
    "sample_h.plot(norm='log', vmin=1.0e-3)"
   ]
  },
  {
   "cell_type": "markdown",
   "id": "a4ba424c-05f1-436d-be55-25c7736b9ade",
   "metadata": {},
   "source": [
    "## Process background run"
   ]
  },
  {
   "cell_type": "code",
   "execution_count": null,
   "id": "4dbd1772-d92c-402a-88d2-1c2bf93fae51",
   "metadata": {},
   "outputs": [],
   "source": [
    "fname = 'SANS_without_sample/detector_signal_event.dat'\n",
    "\n",
    "background = load(fname)"
   ]
  },
  {
   "cell_type": "code",
   "execution_count": null,
   "id": "a3d878e1-5033-497b-b113-7f9477576e46",
   "metadata": {},
   "outputs": [],
   "source": [
    "background.hist(y=200).plot()"
   ]
  },
  {
   "cell_type": "code",
   "execution_count": null,
   "id": "23bed8d3-ee35-42c4-89f5-1832815d4118",
   "metadata": {},
   "outputs": [],
   "source": [
    "background_q = background.transform_coords(\"Q\", graph=graph)"
   ]
  },
  {
   "cell_type": "code",
   "execution_count": null,
   "id": "85d5af77-1b2e-430d-a1f4-d91d798169e9",
   "metadata": {},
   "outputs": [],
   "source": [
    "background_h = background_q.hist(Q=200)\n",
    "background_h.plot()"
   ]
  },
  {
   "cell_type": "markdown",
   "id": "14116ebb-7ab7-496a-b4f6-db97ae5ab9f5",
   "metadata": {},
   "source": [
    "## Subtract background"
   ]
  },
  {
   "cell_type": "code",
   "execution_count": null,
   "id": "5da8bd92-7158-43ad-b59b-c67fb9542069",
   "metadata": {},
   "outputs": [],
   "source": [
    "subbed = sample_h - background_h"
   ]
  },
  {
   "cell_type": "code",
   "execution_count": null,
   "id": "8197f942-0c1a-4d4a-94ba-ac416af7cf4a",
   "metadata": {},
   "outputs": [],
   "source": [
    "qbins = sc.linspace('Q', 5.0e-3, 0.2, 201, unit='1/angstrom')\n",
    "qbins"
   ]
  },
  {
   "cell_type": "code",
   "execution_count": null,
   "id": "4f058c31-dbe0-4ba1-baf0-4b96491dcf2f",
   "metadata": {},
   "outputs": [],
   "source": [
    "subbed = sample_q.hist(Q=qbins) - background_q.hist(Q=qbins)\n",
    "subbed"
   ]
  },
  {
   "cell_type": "code",
   "execution_count": null,
   "id": "5750dd8a-a445-44d0-84a2-18eb9433e92b",
   "metadata": {},
   "outputs": [],
   "source": [
    "subbed.plot(norm='log', vmin=1.0e-3)"
   ]
  },
  {
   "cell_type": "code",
   "execution_count": null,
   "id": "e4b7ff97-0f67-444b-90a0-b48e9b42f331",
   "metadata": {},
   "outputs": [],
   "source": [
    "%matplotlib widget\n",
    "pp.plot({'raw': sample_q.hist(Q=qbins), 'background-subtracted': subbed}, norm='log', vmin=1.0e-3)"
   ]
  },
  {
   "cell_type": "code",
   "execution_count": null,
   "id": "bb2bc851-61b6-490a-afdb-3b4a621d1e67",
   "metadata": {},
   "outputs": [],
   "source": []
  }
 ],
 "metadata": {
  "kernelspec": {
   "display_name": "Python 3 (ipykernel)",
   "language": "python",
   "name": "python3"
  },
  "language_info": {
   "codemirror_mode": {
    "name": "ipython",
    "version": 3
   },
   "file_extension": ".py",
   "mimetype": "text/x-python",
   "name": "python",
   "nbconvert_exporter": "python",
   "pygments_lexer": "ipython3",
   "version": "3.10.10"
  }
 },
 "nbformat": 4,
 "nbformat_minor": 5
}
