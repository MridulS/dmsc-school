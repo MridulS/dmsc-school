{
 "cells": [
  {
   "cell_type": "markdown",
   "id": "403b137b-6d4c-4d44-8a36-45c3380e74b1",
   "metadata": {},
   "source": [
    "# SANS data reduction - DMSC Summer School"
   ]
  },
  {
   "cell_type": "code",
   "execution_count": null,
   "id": "0bfa10eb-2a03-4672-802d-9d8f5620c9c5",
   "metadata": {},
   "outputs": [],
   "source": [
    "import numpy as np\n",
    "import scipp as sc\n",
    "import plopp as pp\n",
    "import os\n",
    "import utils"
   ]
  },
  {
   "cell_type": "markdown",
   "id": "2319763f-3ef7-411b-8bf9-3d9635b314dd",
   "metadata": {},
   "source": [
    "## Process run with sample"
   ]
  },
  {
   "cell_type": "code",
   "execution_count": null,
   "id": "6aff8748-d983-4dca-9330-1acaffc676d0",
   "metadata": {},
   "outputs": [],
   "source": [
    "top_folder = 'McStas_SANS_NeXus_with_issue'\n",
    "run_folder = 'SANS_with_sample_NeXus_1_pulse'\n",
    "fname = os.path.join(top_folder, run_folder, 'mccode.h5')"
   ]
  },
  {
   "cell_type": "code",
   "execution_count": null,
   "id": "bf4e4857-739c-4d6d-94bc-14b6e2fd3da7",
   "metadata": {},
   "outputs": [],
   "source": [
    "sample = utils.load_nexus(fname, 100)\n",
    "sample"
   ]
  },
  {
   "cell_type": "code",
   "execution_count": null,
   "id": "31ef1533-c991-40bc-a840-9713e5b132cb",
   "metadata": {},
   "outputs": [],
   "source": [
    "sample.hist(tof=200, y=200).plot(norm='log', vmin=1.0e-2)"
   ]
  },
  {
   "cell_type": "code",
   "execution_count": null,
   "id": "e7632c23-31ba-42dd-a118-75f4c821511d",
   "metadata": {},
   "outputs": [],
   "source": [
    "sample.hist(y=200).plot(norm='log')"
   ]
  },
  {
   "cell_type": "code",
   "execution_count": null,
   "id": "5b4e0704-015c-47a1-a591-b9685eee9072",
   "metadata": {},
   "outputs": [],
   "source": [
    "from scippneutron.conversion.graph.beamline import beamline\n",
    "from scippneutron.conversion.graph.tof import elastic\n",
    "\n",
    "graph = {**beamline(scatter=True), **elastic(\"tof\")}\n",
    "sc.show_graph(graph, simplified=True)"
   ]
  },
  {
   "cell_type": "code",
   "execution_count": null,
   "id": "3ddcec2f-37c5-4ab8-8040-77df532f48cb",
   "metadata": {},
   "outputs": [],
   "source": [
    "sample.transform_coords(\"wavelength\", graph=graph).hist(wavelength=200).plot()"
   ]
  },
  {
   "cell_type": "code",
   "execution_count": null,
   "id": "24f93ecc-1a70-4688-9642-1944c42fc98b",
   "metadata": {},
   "outputs": [],
   "source": [
    "sample_q = sample.transform_coords(\"Q\", graph=graph)\n",
    "sample_q"
   ]
  },
  {
   "cell_type": "code",
   "execution_count": null,
   "id": "44e6ba9f-3255-4491-9760-e817da9c1820",
   "metadata": {},
   "outputs": [],
   "source": [
    "sample_h = sample_q.hist(Q=200)\n",
    "sample_h"
   ]
  },
  {
   "cell_type": "markdown",
   "id": "a3db945e-dc69-482f-ba62-d5e23a6bc1ad",
   "metadata": {},
   "source": [
    "### Add variances to the data"
   ]
  },
  {
   "cell_type": "code",
   "execution_count": null,
   "id": "5b04672f-a7e1-4c61-8921-6e4a8615fd44",
   "metadata": {},
   "outputs": [],
   "source": [
    "utils.add_variances(sample_h)\n",
    "sample_h.data"
   ]
  },
  {
   "cell_type": "code",
   "execution_count": null,
   "id": "832f4a50-f14f-4442-8010-8aa1f46695ef",
   "metadata": {},
   "outputs": [],
   "source": [
    "sample_h.plot(norm='log')"
   ]
  },
  {
   "cell_type": "markdown",
   "id": "a4ba424c-05f1-436d-be55-25c7736b9ade",
   "metadata": {},
   "source": [
    "## Process flat-field run"
   ]
  },
  {
   "cell_type": "code",
   "execution_count": null,
   "id": "4dbd1772-d92c-402a-88d2-1c2bf93fae51",
   "metadata": {},
   "outputs": [],
   "source": [
    "run_folder = 'SANS_without_sample_NeXus_1_pulse'\n",
    "fname = os.path.join(top_folder, run_folder, 'mccode.h5')\n",
    "\n",
    "flat = utils.load_nexus(fname, 5.0e4)"
   ]
  },
  {
   "cell_type": "code",
   "execution_count": null,
   "id": "a3d878e1-5033-497b-b113-7f9477576e46",
   "metadata": {},
   "outputs": [],
   "source": [
    "flat.hist(y=200).plot()"
   ]
  },
  {
   "cell_type": "code",
   "execution_count": null,
   "id": "95fe6e77-8737-49ed-8c6e-2ee2e17b8900",
   "metadata": {},
   "outputs": [],
   "source": [
    "pp.plot({'sample': sample.hist(y=200),\n",
    "         'flat-field': flat.hist(y=200)},\n",
    "       norm='log')"
   ]
  },
  {
   "cell_type": "code",
   "execution_count": null,
   "id": "23bed8d3-ee35-42c4-89f5-1832815d4118",
   "metadata": {},
   "outputs": [],
   "source": [
    "flat_q = flat.transform_coords(\"Q\", graph=graph)"
   ]
  },
  {
   "cell_type": "code",
   "execution_count": null,
   "id": "85d5af77-1b2e-430d-a1f4-d91d798169e9",
   "metadata": {},
   "outputs": [],
   "source": [
    "flat_h = flat_q.hist(Q=200)\n",
    "utils.add_variances(flat_h)\n",
    "flat_h.plot()"
   ]
  },
  {
   "cell_type": "markdown",
   "id": "14116ebb-7ab7-496a-b4f6-db97ae5ab9f5",
   "metadata": {},
   "source": [
    "## Normalize"
   ]
  },
  {
   "cell_type": "code",
   "execution_count": null,
   "id": "5da8bd92-7158-43ad-b59b-c67fb9542069",
   "metadata": {},
   "outputs": [],
   "source": [
    "normed = sample_h / flat_h"
   ]
  },
  {
   "cell_type": "code",
   "execution_count": null,
   "id": "8197f942-0c1a-4d4a-94ba-ac416af7cf4a",
   "metadata": {},
   "outputs": [],
   "source": [
    "qbins = sc.linspace('Q', 5.0e-3, 0.2, 201, unit='1/angstrom')\n",
    "qbins"
   ]
  },
  {
   "cell_type": "code",
   "execution_count": null,
   "id": "4f058c31-dbe0-4ba1-baf0-4b96491dcf2f",
   "metadata": {},
   "outputs": [],
   "source": [
    "sample_h = sample_q.hist(Q=qbins)\n",
    "flat_h = flat_q.hist(Q=qbins)\n",
    "\n",
    "utils.add_variances(sample_h, flat_h)\n",
    "\n",
    "normed = sample_h / flat_h\n",
    "normed"
   ]
  },
  {
   "cell_type": "code",
   "execution_count": null,
   "id": "5750dd8a-a445-44d0-84a2-18eb9433e92b",
   "metadata": {},
   "outputs": [],
   "source": [
    "normed.plot(norm='log')"
   ]
  },
  {
   "cell_type": "markdown",
   "id": "e17a5ace-57af-447a-bcbb-1337f0bed86b",
   "metadata": {},
   "source": [
    "## Save result to disk"
   ]
  },
  {
   "cell_type": "code",
   "execution_count": null,
   "id": "7f69249a-f61f-457a-8a86-e9487b4b9dba",
   "metadata": {},
   "outputs": [],
   "source": [
    "q = sc.midpoints(normed.coords['Q']).values\n",
    "data = np.array([q, normed.values, np.sqrt(normed.variances)]).T\n",
    "\n",
    "np.savetxt('sans_iofq.dat', data, header=\"Q [1/A], I, stddev\", delimiter=' ')"
   ]
  },
  {
   "cell_type": "markdown",
   "id": "dc74c0b5-300a-436f-af3f-0f6cb138ff0b",
   "metadata": {},
   "source": [
    "## Process data from 3 pulses"
   ]
  },
  {
   "cell_type": "code",
   "execution_count": null,
   "id": "848b6c47-f0b9-429d-8548-833ce553316d",
   "metadata": {},
   "outputs": [],
   "source": [
    "run_folder = 'SANS_with_sample_NeXus_3_pulse'\n",
    "fname = os.path.join(top_folder, run_folder, 'mccode.h5')\n",
    "sample = utils.load_nexus(fname, 100)\n",
    "sample"
   ]
  },
  {
   "cell_type": "code",
   "execution_count": null,
   "id": "48e44873-40a9-475f-bec5-4148bad9636f",
   "metadata": {},
   "outputs": [],
   "source": [
    "sample.hist(tof=200, y=200).plot(norm='log', vmin=1.0e-2)"
   ]
  },
  {
   "cell_type": "markdown",
   "id": "90b4411a-bf9e-4804-8a1f-775a1d57d9cf",
   "metadata": {},
   "source": [
    "Convert neutron wavelength to speed:\n",
    "\n",
    "$$ v = \\frac{h}{m_{\\mathrm{n}}\\lambda} $$"
   ]
  },
  {
   "cell_type": "code",
   "execution_count": null,
   "id": "6f52365e-8165-46f1-990d-75c16cfc38e4",
   "metadata": {},
   "outputs": [],
   "source": [
    "AA = sc.Unit('angstrom')\n",
    "wmin = 5.25 * AA\n",
    "wmax = 6.75 * AA\n",
    "\n",
    "h = sc.constants.h\n",
    "m_n = sc.constants.m_n\n",
    "\n",
    "vmin = (h / (m_n * wmax)).to(unit='m/s')\n",
    "vmax = (h / (m_n * wmin)).to(unit='m/s')\n",
    "vmin, vmax"
   ]
  },
  {
   "cell_type": "code",
   "execution_count": null,
   "id": "b1670bb3-5ef6-433c-a477-ef58cdbadf77",
   "metadata": {},
   "outputs": [],
   "source": [
    "mean_distance = sc.norm(sample.coords['position'].mean() - sample.coords['source_position'])\n",
    "mean_distance"
   ]
  },
  {
   "cell_type": "code",
   "execution_count": null,
   "id": "aa3e8ee6-4535-4c3b-9832-692355460cc8",
   "metadata": {},
   "outputs": [],
   "source": [
    "tmin = (mean_distance / vmax).to(unit='ms')\n",
    "tmax = (mean_distance / vmin).to(unit='ms')\n",
    "tmin, tmax"
   ]
  },
  {
   "cell_type": "code",
   "execution_count": null,
   "id": "89d977f2-366e-4aef-9da7-1b8b915a9b80",
   "metadata": {},
   "outputs": [],
   "source": [
    "pulse_offsets = sc.arange('tof', 3.0) * sc.scalar(1.0 / 14.0, unit='s').to(unit='ms')\n",
    "pulse_offsets"
   ]
  },
  {
   "cell_type": "code",
   "execution_count": null,
   "id": "f7f7631a-bc82-4861-932e-dd989ad6e1ca",
   "metadata": {},
   "outputs": [],
   "source": [
    "bounds_min = tmin + pulse_offsets\n",
    "bounds_max = tmax + pulse_offsets\n",
    "bounds_min, bounds_max"
   ]
  },
  {
   "cell_type": "code",
   "execution_count": null,
   "id": "bf1a1142-d5fc-474e-9881-97d2098a6de5",
   "metadata": {},
   "outputs": [],
   "source": [
    "a = sc.concat([bounds_max[:-1], bounds_min[1:]], dim='dummy').mean('dummy')\n",
    "a"
   ]
  },
  {
   "cell_type": "code",
   "execution_count": null,
   "id": "9a8be227-78eb-464b-ba09-3b8cc536d766",
   "metadata": {},
   "outputs": [],
   "source": [
    "edges = sc.concat([bounds_min[0:1], a, bounds_max[-1:]], dim='tof')\n",
    "edges"
   ]
  },
  {
   "cell_type": "code",
   "execution_count": null,
   "id": "5af83c5e-35da-40d1-8cc9-822e539e37e6",
   "metadata": {},
   "outputs": [],
   "source": [
    "binned = sample.bin(tof=edges)\n",
    "binned"
   ]
  },
  {
   "cell_type": "code",
   "execution_count": null,
   "id": "c78e8703-dbe7-451d-8f4c-2f0fa60f419f",
   "metadata": {},
   "outputs": [],
   "source": [
    "binned.bins.coords['tof'] -= pulse_offsets"
   ]
  },
  {
   "cell_type": "code",
   "execution_count": null,
   "id": "c9d7b894-52fe-4b73-94f8-6bb1b507bc49",
   "metadata": {},
   "outputs": [],
   "source": [
    "binned"
   ]
  },
  {
   "cell_type": "code",
   "execution_count": null,
   "id": "7005208b-8adb-4a7a-b5fc-1a9ce9c5e766",
   "metadata": {},
   "outputs": [],
   "source": [
    "binned.bins.constituents['data'].hist(tof=200, y=200).plot(norm='log', vmin=1.0e-2)"
   ]
  },
  {
   "cell_type": "code",
   "execution_count": null,
   "id": "ac28cd1b-7cfe-47fa-8f35-9b195c749c30",
   "metadata": {},
   "outputs": [],
   "source": []
  }
 ],
 "metadata": {
  "kernelspec": {
   "display_name": "Python 3 (ipykernel)",
   "language": "python",
   "name": "python3"
  },
  "language_info": {
   "codemirror_mode": {
    "name": "ipython",
    "version": 3
   },
   "file_extension": ".py",
   "mimetype": "text/x-python",
   "name": "python",
   "nbconvert_exporter": "python",
   "pygments_lexer": "ipython3",
   "version": "3.10.10"
  }
 },
 "nbformat": 4,
 "nbformat_minor": 5
}
