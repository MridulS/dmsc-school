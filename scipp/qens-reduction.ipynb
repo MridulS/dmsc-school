{
 "cells": [
  {
   "cell_type": "markdown",
   "id": "a146780d-97b5-45a2-afe3-b852551bee2f",
   "metadata": {},
   "source": [
    "# QENS data reduction\n",
    "\n",
    "This notebook will guide you through the data reduction for the QENS experiment that you simulated with McStas yesterday.\n",
    "\n",
    "The following is a basic outline of what this notebook will cover:\n",
    "\n",
    "- Loading the NeXus files that contain the data\n",
    "- Inspect/visualize the data contents\n",
    "- How to convert the raw `time-of-flight` coordinate to something more useful ($\\Delta E$)\n",
    "- Write the results to file\n",
    "- Process more than one pulse"
   ]
  },
  {
   "cell_type": "code",
   "execution_count": null,
   "id": "9d2fb1a1-e0ea-4730-9a5a-0e5f8d6c6cd2",
   "metadata": {},
   "outputs": [],
   "source": [
    "import numpy as np\n",
    "import plopp as pp\n",
    "import scippneutron as scn\n",
    "import utils\n",
    "\n",
    "import scipp as sc"
   ]
  },
  {
   "cell_type": "markdown",
   "id": "069bdf98-d741-403a-b49c-2968b9e4ecda",
   "metadata": {},
   "source": [
    "## Load raw data"
   ]
  },
  {
   "cell_type": "code",
   "execution_count": null,
   "id": "c5a05e73-e36b-41ed-887c-674d09df6de3",
   "metadata": {},
   "outputs": [],
   "source": [
    "# Optional: download the data\n",
    "!wget -nc --no-verbose https://public.esss.dk/groups/scipp/dmsc-summer-school/qens/qens_elastic_1_pulse.h5\n",
    "!wget -nc --no-verbose https://public.esss.dk/groups/scipp/dmsc-summer-school/qens/qens_known_quasi_elastic_1_pulse.h5\n",
    "!wget -nc --no-verbose https://public.esss.dk/groups/scipp/dmsc-summer-school/qens/qens_unknown_quasi_elastic_1_pulse.h5"
   ]
  },
  {
   "cell_type": "code",
   "execution_count": null,
   "id": "037773ba-aab8-4144-aef6-8e9affa9ce33",
   "metadata": {},
   "outputs": [],
   "source": [
    "fname = \"qens_known_quasi_elastic_1_pulse.h5\"\n",
    "events = utils.load_qens(fname)"
   ]
  },
  {
   "cell_type": "code",
   "execution_count": null,
   "id": "214c5097-9522-4883-8ec8-3e7342c0a556",
   "metadata": {},
   "outputs": [],
   "source": [
    "events"
   ]
  },
  {
   "cell_type": "markdown",
   "id": "4d948bb3-c09f-472f-9cbf-fab570faf1d2",
   "metadata": {},
   "source": [
    "## Inspect raw data"
   ]
  },
  {
   "cell_type": "code",
   "execution_count": null,
   "id": "9a0cc022-3a37-4592-8cf1-c4c0ac4b7bc7",
   "metadata": {},
   "outputs": [],
   "source": [
    "events.hist(tof=100, y=100).plot()"
   ]
  },
  {
   "cell_type": "markdown",
   "id": "c3dd4d68-692c-4eb9-a92d-56907b362ed7",
   "metadata": {},
   "source": [
    "## Mask bad region"
   ]
  },
  {
   "cell_type": "code",
   "execution_count": null,
   "id": "35db1b83-a75a-474e-80e1-ef6be506bc81",
   "metadata": {},
   "outputs": [],
   "source": [
    "y = events.coords[\"y\"]\n",
    "mask_regions = sc.array(\n",
    "        dims=[\"y\"],\n",
    "        values=[y.min().value, 0.26, 0.27, np.nextafter(y.max().value, np.inf)],\n",
    "        unit=y.unit,\n",
    "    )\n",
    "binned_for_mask = events.bin(y=mask_regions)\n",
    "mask = sc.array(dims=[\"y\"], values=[False, True, False])\n",
    "binned_for_mask.masks[\"bad_timing\"] = mask\n",
    "binned_for_mask"
   ]
  },
  {
   "cell_type": "code",
   "execution_count": null,
   "id": "d48d17bf-3b11-4114-a604-493ab187a972",
   "metadata": {},
   "outputs": [],
   "source": [
    "binned_for_mask.hist().plot()"
   ]
  },
  {
   "cell_type": "code",
   "execution_count": null,
   "id": "b2a74296-dfb0-46ee-9e67-e91ebff9e69b",
   "metadata": {},
   "outputs": [],
   "source": [
    "binned_for_mask.hist(tof=100, y=100).plot()"
   ]
  },
  {
   "cell_type": "markdown",
   "id": "1606596c-407f-4b4a-b95a-a0f70937fbb8",
   "metadata": {},
   "source": [
    "## Transform to energy transfer"
   ]
  },
  {
   "cell_type": "code",
   "execution_count": null,
   "id": "92558f37-1062-4d34-855a-a4c734c91147",
   "metadata": {},
   "outputs": [],
   "source": [
    "def backscattered_l2(position, sample_position, analyzer_position):\n",
    "    \"\"\"\n",
    "    Compute the length of the secondary flight path for backscattering off an analyzer.\n",
    "    \"\"\"\n",
    "    # TODO Subtraction from Mad's script ?!\n",
    "    return (\n",
    "        sc.norm(position - analyzer_position)\n",
    "        + sc.norm(analyzer_position - sample_position)\n",
    "        - sc.scalar(0.03, unit=\"m\")\n",
    "    )\n",
    "\n",
    "\n",
    "def wavelength_from_analyzer(analyzer_dspacing, analyzer_angle):\n",
    "    \"\"\"\n",
    "    Compute the neutron wavelength after scattering from the analyzer's d-spacing.\n",
    "\n",
    "    Assuming Bragg scattering in the analyzer, the wavelength is\n",
    "        wavelength = 2 * d * sin(theta)\n",
    "\n",
    "    Where\n",
    "        d is the analyzer's d-spacing,\n",
    "        theta is the scattering angle or equivalently, the tilt of the analyzer\n",
    "              w.r.t. to the sample-analyzer axis.\n",
    "    \"\"\"\n",
    "    # 2*theta is the angle between transmitted and scattered beam.\n",
    "    return (\n",
    "        2\n",
    "        * analyzer_dspacing\n",
    "        * sc.sin(sc.scalar(np.pi / 2, unit=\"rad\") - analyzer_angle.to(unit=\"rad\"))\n",
    "    )\n",
    "\n",
    "\n",
    "def final_energy(final_wavelength):\n",
    "    \"\"\"\n",
    "    Compute the neutron energy after scattering.\n",
    "\n",
    "    Uses\n",
    "        final_energy = mn / 2 * final_speed**2\n",
    "        final_speed = 2 * pi * hbar / mn / final_wavelength\n",
    "\n",
    "    Where\n",
    "        mn is the neutron mass,\n",
    "        final_wavelength is the wavelength after scattering,\n",
    "        final_speed is the speed after scattering.\n",
    "    \"\"\"\n",
    "    return sc.to_unit(\n",
    "        sc.constants.h**2 / 2 / sc.constants.neutron_mass / (final_wavelength**2),\n",
    "        \"meV\",\n",
    "    )"
   ]
  },
  {
   "cell_type": "code",
   "execution_count": null,
   "id": "4a7781fa-9744-42cd-9cbf-ce46d0f2f783",
   "metadata": {},
   "outputs": [],
   "source": [
    "from scippneutron.conversion.graph.beamline import beamline\n",
    "from scippneutron.conversion.tof import energy_transfer_indirect_from_tof\n",
    "\n",
    "graph = {\n",
    "    **beamline(scatter=True),\n",
    "    \"L2\": backscattered_l2,\n",
    "    \"final_wavelength\": wavelength_from_analyzer,\n",
    "    \"final_energy\": final_energy,\n",
    "    \"energy_transfer\": energy_transfer_indirect_from_tof,\n",
    "}\n",
    "del graph[\"two_theta\"]\n",
    "del graph[\"scattered_beam\"]\n",
    "del graph[\"Ltotal\"]\n",
    "sc.show_graph(graph, simplified=True)"
   ]
  },
  {
   "cell_type": "code",
   "execution_count": null,
   "id": "fa3bfc7d-9716-4753-a38d-9cdc95c77c6e",
   "metadata": {},
   "outputs": [],
   "source": [
    "def correct_tof(data):\n",
    "    data = data.copy()\n",
    "    # TODO according to Mads' script\n",
    "    #  Instrument focuses at center of pulse, 2.86 ms / 2\n",
    "    shift = sc.scalar(0.5 * 2.86, unit=\"ms\")\n",
    "    if \"tof\" in data.coords:\n",
    "        data.coords[\"tof\"] -= shift.to(unit=data.coords[\"tof\"].unit)\n",
    "    if data.bins and \"tof\" in data.bins.coords:\n",
    "        data.bins.coords[\"tof\"] -= shift.to(unit=data.bins.coords[\"tof\"].bins.unit)\n",
    "    return data"
   ]
  },
  {
   "cell_type": "code",
   "execution_count": null,
   "id": "c3c3175a-8227-4da4-938d-7a0c6d01200e",
   "metadata": {},
   "outputs": [],
   "source": [
    "def to_energy_transfer(data):\n",
    "    data = correct_tof(data)\n",
    "    return data.transform_coords(\"energy_transfer\", graph=graph)"
   ]
  },
  {
   "cell_type": "code",
   "execution_count": null,
   "id": "112d54f7-6a22-48d1-a9a9-4ab91b206903",
   "metadata": {},
   "outputs": [],
   "source": [
    "unmasked = to_energy_transfer(events)\n",
    "unmasked"
   ]
  },
  {
   "cell_type": "code",
   "execution_count": null,
   "id": "7bd44f00-ee45-4b85-968a-a49561915dad",
   "metadata": {},
   "outputs": [],
   "source": [
    "masked = to_energy_transfer(binned_for_mask)\n",
    "masked"
   ]
  },
  {
   "cell_type": "code",
   "execution_count": null,
   "id": "bf1fd84e-8de7-4830-8e0f-db43e109ccdf",
   "metadata": {},
   "outputs": [],
   "source": [
    "masked_hist = masked.bins.concat().hist(energy_transfer=100)\n",
    "unmasked_hist = unmasked.hist(energy_transfer=100)"
   ]
  },
  {
   "cell_type": "code",
   "execution_count": null,
   "id": "3f6a1af2-7992-4199-a973-8b2f34d51a07",
   "metadata": {},
   "outputs": [],
   "source": [
    "utils.add_variances(masked_hist)\n",
    "utils.add_variances(unmasked_hist)"
   ]
  },
  {
   "cell_type": "code",
   "execution_count": null,
   "id": "80945a3e-ccbe-4643-98cf-2a42b9b651af",
   "metadata": {},
   "outputs": [],
   "source": [
    "pp.plot(\n",
    "    {\n",
    "        \"unmasked\": unmasked_hist,\n",
    "        \"masked\": masked_hist,\n",
    "    }\n",
    ")"
   ]
  },
  {
   "cell_type": "code",
   "execution_count": null,
   "id": "a475d0b3-a441-421b-8e63-49031d77264b",
   "metadata": {},
   "outputs": [],
   "source": [
    "# TODo do all 3 samples"
   ]
  },
  {
   "cell_type": "markdown",
   "id": "440e9d0b-d741-4823-aec5-a73a07cc26a4",
   "metadata": {},
   "source": [
    "## Save result to disk"
   ]
  },
  {
   "cell_type": "code",
   "execution_count": null,
   "id": "1d784eaa-364a-4b89-bfc7-7da3dd21371a",
   "metadata": {},
   "outputs": [],
   "source": [
    "data = masked_hist.copy()\n",
    "data.coords[\"energy_transfer\"] = sc.midpoints(data.coords[\"energy_transfer\"])\n",
    "scn.io.save_xye(\"qens_energy_transfer_known_quasi_elastic_1_pulse.xye\", data)"
   ]
  },
  {
   "cell_type": "markdown",
   "id": "301e3056-351f-43fd-b418-4d63d7fd1290",
   "metadata": {},
   "source": [
    "## Process data from 3 pulses\n",
    "\n",
    "We now want to repeat the reduction, but using more than a single pulse to improve our statistics.\n",
    "\n",
    "We begin by loading the run with 3 pulses."
   ]
  },
  {
   "cell_type": "code",
   "execution_count": null,
   "id": "41745f4f-df2c-4ee9-9666-421e2b935fb4",
   "metadata": {},
   "outputs": [],
   "source": [
    "# Optional: download sample data\n",
    "!wget -nc --no-verbose https://public.esss.dk/groups/scipp/dmsc-summer-school/qens/qens_elastic_3_pulse.h5\n",
    "!wget -nc --no-verbose https://public.esss.dk/groups/scipp/dmsc-summer-school/qens/qens_known_quasi_elastic_3_pulse.h5\n",
    "!wget -nc --no-verbose https://public.esss.dk/groups/scipp/dmsc-summer-school/qens/qens_unknown_quasi_elastic_3_pulse.h5"
   ]
  },
  {
   "cell_type": "code",
   "execution_count": null,
   "id": "5bfadd2c-e44a-4d5a-b70f-0f44569a9024",
   "metadata": {},
   "outputs": [],
   "source": [
    "fname = \"qens_known_quasi_elastic_3_pulse.h5\"\n",
    "events_3_pulse = utils.load_qens(fname)\n",
    "events_3_pulse"
   ]
  },
  {
   "cell_type": "code",
   "execution_count": null,
   "id": "d39d0560-0e15-4b65-81ab-b66b4d9d6900",
   "metadata": {},
   "outputs": [],
   "source": [
    "events_3_pulse.hist(tof=100, y=100).plot()"
   ]
  },
  {
   "cell_type": "markdown",
   "id": "f627499f-2ed8-442c-8efd-b532043f35c8",
   "metadata": {},
   "source": [
    "### Exercise ?: fold the pulses\n",
    "\n",
    "You are provided with a function that will perform the folding correctly,\n",
    "assuming you supply it the correct inputs."
   ]
  },
  {
   "cell_type": "code",
   "execution_count": null,
   "id": "f0ba869c-d265-4588-b9c4-b33d6ee1f400",
   "metadata": {},
   "outputs": [],
   "source": [
    "utils.fold_pulses?"
   ]
  },
  {
   "cell_type": "markdown",
   "id": "45c58107-5876-4a2f-8521-140aa077de85",
   "metadata": {},
   "source": [
    "Make 3 pulse offsets, starting at 0, using 14 pulses per second."
   ]
  },
  {
   "cell_type": "code",
   "execution_count": null,
   "id": "f78049a4-b3e2-4123-b421-18b54e758e22",
   "metadata": {},
   "outputs": [],
   "source": [
    "pulse_offsets = sc.arange(\"tof\", 3.0) * sc.scalar(1.0 / 14.0, unit=\"s\").to(unit=\"ms\")\n",
    "pulse_offsets"
   ]
  },
  {
   "cell_type": "markdown",
   "id": "e7a4d251-94fe-48d9-b4c1-ab55480f760b",
   "metadata": {},
   "source": [
    "Make evenly-spaced pulse-edges."
   ]
  },
  {
   "cell_type": "code",
   "execution_count": null,
   "id": "cf9f9fb7-8a32-4aab-91d5-062c223ec848",
   "metadata": {},
   "outputs": [],
   "source": [
    "tmin = events_3_pulse.coords[\"tof\"].min().value\n",
    "tmax = np.nextafter(events_3_pulse.coords[\"tof\"].max().value, np.inf)\n",
    "edges = sc.linspace(\"tof\", tmin, tmax, 4, unit=\"ms\")\n",
    "edges"
   ]
  },
  {
   "cell_type": "code",
   "execution_count": null,
   "id": "d105973f-2915-4490-9530-b9bc8448813b",
   "metadata": {},
   "outputs": [],
   "source": [
    "folded = utils.fold_pulses(events_3_pulse, edges, pulse_offsets)\n",
    "folded.hist(tof=100, y=100).plot()"
   ]
  },
  {
   "cell_type": "code",
   "execution_count": null,
   "id": "2aaa83df-9ef7-46ca-8ef5-72059fbf938e",
   "metadata": {},
   "outputs": [],
   "source": [
    "folded"
   ]
  },
  {
   "cell_type": "code",
   "execution_count": null,
   "id": "01592b76-ddbc-406d-9aa2-707bf7c80fca",
   "metadata": {},
   "outputs": [],
   "source": [
    "binned_for_mask = folded.bin(y=mask_regions)\n",
    "binned_for_mask.masks[\"bad_timing\"] = mask\n",
    "masked_3_pulse = to_energy_transfer(binned_for_mask)\n",
    "masked_3_pulse_hist = masked_3_pulse.bins.concat().hist(energy_transfer=100)\n",
    "utils.add_variances(masked_3_pulse_hist)\n",
    "masked_3_pulse_hist.plot()"
   ]
  },
  {
   "cell_type": "code",
   "execution_count": null,
   "id": "394404db-da5c-40c0-94bc-05197b71a378",
   "metadata": {},
   "outputs": [],
   "source": [
    "n3 = masked_3_pulse_hist / sc.values(masked_3_pulse_hist.sum())\n",
    "n1 = masked_hist / sc.values(masked_hist.sum())\n",
    "pp.plot({'1': n1, '3': n3})"
   ]
  },
  {
   "cell_type": "code",
   "execution_count": null,
   "id": "2e342a71-c97a-4cbe-8ad9-cb12eec541ea",
   "metadata": {},
   "outputs": [],
   "source": []
  }
 ],
 "metadata": {
  "kernelspec": {
   "display_name": "Python 3 (ipykernel)",
   "language": "python",
   "name": "python3"
  },
  "language_info": {
   "codemirror_mode": {
    "name": "ipython",
    "version": 3
   },
   "file_extension": ".py",
   "mimetype": "text/x-python",
   "name": "python",
   "nbconvert_exporter": "python",
   "pygments_lexer": "ipython3",
   "version": "3.11.3"
  }
 },
 "nbformat": 4,
 "nbformat_minor": 5
}
