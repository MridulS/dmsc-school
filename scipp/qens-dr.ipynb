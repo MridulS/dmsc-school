{
 "cells": [
  {
   "cell_type": "markdown",
   "id": "a146780d-97b5-45a2-afe3-b852551bee2f",
   "metadata": {},
   "source": [
    "# QENS data reduction - DMSC summer school"
   ]
  },
  {
   "cell_type": "code",
   "execution_count": null,
   "id": "9d2fb1a1-e0ea-4730-9a5a-0e5f8d6c6cd2",
   "metadata": {},
   "outputs": [],
   "source": [
    "import os\n",
    "\n",
    "import numpy as np\n",
    "import plopp as pp\n",
    "import scipp as sc\n",
    "import scippneutron as scn\n",
    "\n",
    "import qens_utils"
   ]
  },
  {
   "cell_type": "code",
   "execution_count": null,
   "id": "45e298f2-8c63-492d-a4fc-84fd6eee81c6",
   "metadata": {},
   "outputs": [],
   "source": [
    "%matplotlib widget"
   ]
  },
  {
   "cell_type": "code",
   "execution_count": null,
   "id": "037773ba-aab8-4144-aef6-8e9affa9ce33",
   "metadata": {},
   "outputs": [],
   "source": [
    "top_folder = '../data/McStas_QENS_NeXus_updated_counts'\n",
    "run_folder = 'QENS_elastic_NeXus_1_pulse'\n",
    "fname = os.path.join(top_folder, run_folder, 'mccode.h5')"
   ]
  },
  {
   "cell_type": "code",
   "execution_count": null,
   "id": "e15ac3b8-7924-425a-ac6c-7362ba3dd76d",
   "metadata": {},
   "outputs": [],
   "source": [
    "events = qens_utils.load_qens(fname)"
   ]
  },
  {
   "cell_type": "code",
   "execution_count": null,
   "id": "214c5097-9522-4883-8ec8-3e7342c0a556",
   "metadata": {},
   "outputs": [],
   "source": [
    "events"
   ]
  },
  {
   "cell_type": "code",
   "execution_count": null,
   "id": "9ff68824-1df0-458d-ad64-baaf78215e08",
   "metadata": {},
   "outputs": [],
   "source": [
    "source_settings = {\n",
    "    'center': events.coords['source_position'],\n",
    "    'color': '#FFC133',\n",
    "    'size': sc.vector(value=[10, 20, 10], unit=sc.units.m),\n",
    "    'type': 'cylinder',\n",
    "}\n",
    "sample_settings = {\n",
    "    'center': events.meta['sample_position'],\n",
    "    'color': '#000000',\n",
    "    'wireframe': True,\n",
    "    'size': sc.vector(value=[0.01, 0.01, 0.01], unit=sc.units.m),\n",
    "    'type': 'box',\n",
    "}\n",
    "analyzer_settings = {\n",
    "    'center': events.coords['analyzer_position'],\n",
    "    'color': '#AA0000',\n",
    "    'size': sc.vector([0.1, 0.1, 0.1], unit='m'),\n",
    "    'type': 'box',\n",
    "}\n",
    "scn.instrument_view(\n",
    "    events,\n",
    "    components={'analyzer': analyzer_settings, 'source': source_settings, 'sample': sample_settings})"
   ]
  },
  {
   "cell_type": "code",
   "execution_count": null,
   "id": "92558f37-1062-4d34-855a-a4c734c91147",
   "metadata": {},
   "outputs": [],
   "source": [
    "def backscattered_l2(position, sample_position, analyzer_position):\n",
    "    \"\"\"\n",
    "    Compute the length of the secondary flight path for backscattering off an analyzer.\n",
    "    \"\"\"\n",
    "    return sc.norm(position-analyzer_position) + sc.norm(analyzer_position-sample_position)\n",
    "\n",
    "\n",
    "def wavelength_from_analyzer(analyzer_dspacing, analyzer_angle):\n",
    "    \"\"\"\n",
    "    Compute the neutron wavelength after scattering from the analyzer's d-spacing.\n",
    "\n",
    "    Assuming Bragg scattering in the analyzer, the wavelength is\n",
    "        wavelength = 2 * d * sin(theta)\n",
    "\n",
    "    Where\n",
    "        d is the analyzer's d-spacing,\n",
    "        theta is the scattering angle or equivalently, the tilt of the analyzer\n",
    "              w.r.t. to the sample-analyzer axis.\n",
    "    \"\"\"\n",
    "    # 2*theta is the angle between transmitted and scattered beam.\n",
    "    # So because of backscattering, we need to subtract the analyzer angle from 2*pi.\n",
    "    return 2 * analyzer_dspacing * sc.sin(sc.scalar(np.pi/2, unit='rad') - analyzer_angle.to(unit='rad'))\n",
    "\n",
    "\n",
    "def final_energy(final_wavelength):\n",
    "    \"\"\"\n",
    "    Compute the neutron energy after scattering.\n",
    "\n",
    "    Uses\n",
    "        final_energy = mn / 2 * final_speed**2\n",
    "        final_speed = 2 * pi * hbar / mn / final_wavelength\n",
    "\n",
    "    Where\n",
    "        mn is the neutron mass,\n",
    "        final_wavelength is the wavelength after scattering,\n",
    "        final_speed is the speed after scattering.\n",
    "    \"\"\"\n",
    "    return 4 / sc.constants.neutron_mass * (sc.constants.h / final_wavelength) ** 2"
   ]
  },
  {
   "cell_type": "code",
   "execution_count": null,
   "id": "4a7781fa-9744-42cd-9cbf-ce46d0f2f783",
   "metadata": {},
   "outputs": [],
   "source": [
    "from scippneutron.conversion.graph.beamline import beamline\n",
    "from scippneutron.conversion.graph.tof import indirect_inelastic\n",
    "\n",
    "graph = {\n",
    "    **beamline(scatter=True),\n",
    "    **indirect_inelastic('tof'),\n",
    "    'L2': backscattered_l2,\n",
    "    'final_wavelength': wavelength_from_analyzer,\n",
    "    'final_energy': final_energy,\n",
    "}\n",
    "del graph['two_theta']\n",
    "del graph['scattered_beam']\n",
    "del graph['Ltotal']\n",
    "sc.show_graph(graph, simplified=True)"
   ]
  },
  {
   "cell_type": "code",
   "execution_count": null,
   "id": "c3c3175a-8227-4da4-938d-7a0c6d01200e",
   "metadata": {},
   "outputs": [],
   "source": [
    "da = events.transform_coords('energy_transfer', graph=graph)"
   ]
  },
  {
   "cell_type": "code",
   "execution_count": null,
   "id": "af00fe61-95c0-493a-abda-6dc97b88ae31",
   "metadata": {},
   "outputs": [],
   "source": []
  }
 ],
 "metadata": {
  "kernelspec": {
   "display_name": "Python 3 (ipykernel)",
   "language": "python",
   "name": "python3"
  },
  "language_info": {
   "codemirror_mode": {
    "name": "ipython",
    "version": 3
   },
   "file_extension": ".py",
   "mimetype": "text/x-python",
   "name": "python",
   "nbconvert_exporter": "python",
   "pygments_lexer": "ipython3",
   "version": "3.11.3"
  }
 },
 "nbformat": 4,
 "nbformat_minor": 5
}
